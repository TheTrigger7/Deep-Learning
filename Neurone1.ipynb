{
  "nbformat": 4,
  "nbformat_minor": 0,
  "metadata": {
    "colab": {
      "name": "Neurone1.ipynb",
      "provenance": [],
      "collapsed_sections": []
    },
    "kernelspec": {
      "name": "python3",
      "display_name": "Python 3"
    },
    "language_info": {
      "name": "python"
    }
  },
  "cells": [
    {
      "cell_type": "code",
      "metadata": {
        "id": "DLzYoFX7HGQ6"
      },
      "source": [
        "import numpy as np\n",
        "import matplotlib.pyplot as plt\n",
        "from sklearn.datasets import make_blobs\n",
        "from sklearn.metrics import accuracy_score"
      ],
      "execution_count": 62,
      "outputs": []
    },
    {
      "cell_type": "code",
      "metadata": {
        "colab": {
          "base_uri": "https://localhost:8080/",
          "height": 300
        },
        "id": "-kRIe7ISG3TR",
        "outputId": "502c1bad-3a65-4ffe-86ba-22168e91d291"
      },
      "source": [
        "\n",
        "X, y = make_blobs(n_samples = 100, n_features = 2, centers = 2, random_state= 0)\n",
        "y = y.reshape((y.shape[0],1))\n",
        "\n",
        "print(\"dimension de X : \", X.shape)\n",
        "print(\"dimension de y : \" , y.shape)\n",
        "\n",
        "plt.scatter(X[:,0], X[:,1], c = y, cmap = \"summer\")\n",
        "plt.show()"
      ],
      "execution_count": 24,
      "outputs": [
        {
          "output_type": "stream",
          "name": "stdout",
          "text": [
            "dimension de X :  (100, 2)\n",
            "dimension de y :  (100, 1)\n"
          ]
        },
        {
          "output_type": "display_data",
          "data": {
            "image/png": "[encoded data removed]",
            "text/plain": [
              "<Figure size 432x288 with 1 Axes>"
            ]
          },
          "metadata": {
            "needs_background": "light"
          }
        }
      ]
    },
    {
      "cell_type": "code",
      "metadata": {
        "id": "MJB6rWeuIWxU"
      },
      "source": [
        "def init(X): #fonction d'initialisation des paramètres\n",
        "  W = np.random.randn(X.shape[1],1) #W = vecteur de la taille du nombre de colonnes de X\n",
        "  b = np.random.randn(1) #b = nombre réel\n",
        "  return (W,b)"
      ],
      "execution_count": 45,
      "outputs": []
    },
    {
      "cell_type": "code",
      "metadata": {
        "colab": {
          "base_uri": "https://localhost:8080/"
        },
        "id": "xOo_R3tjJAss",
        "outputId": "b9189998-0ac6-494e-f9d1-92abce782d97"
      },
      "source": [
        "def model(X, W, b): #modèle d'apprentissage linéaire\n",
        "  Z = X.dot(W)+b\n",
        "  return 1/(1+np.exp(-Z))\n",
        "\n",
        "A = model(X, W, b)\n",
        "A.shape"
      ],
      "execution_count": 75,
      "outputs": [
        {
          "output_type": "execute_result",
          "data": {
            "text/plain": [
              "(100, 1)"
            ]
          },
          "metadata": {},
          "execution_count": 75
        }
      ]
    },
    {
      "cell_type": "code",
      "metadata": {
        "id": "LEGnxEpxJ9AF"
      },
      "source": [
        "def Loss(A, y): #fonction coût\n",
        "  return (-1/len(y))*(np.sum(y*np.log(A)+(1-y)*np.log(1-A)))"
      ],
      "execution_count": 43,
      "outputs": []
    },
    {
      "cell_type": "code",
      "metadata": {
        "id": "t0F0C57eKjmJ"
      },
      "source": [
        "def gradients(X, y , A): #gradients du model\n",
        "  dW = 1/len(y) * np.dot(X.T, A-y)\n",
        "  db = 1/len(y) * sum(A-y)\n",
        "  return (dW, db)"
      ],
      "execution_count": 47,
      "outputs": []
    },
    {
      "cell_type": "code",
      "metadata": {
        "id": "GKi8f0XLMIlU"
      },
      "source": [
        "def gradient_descent(dW, db, W, b, learning_rate): # algorithme de descente de gradient\n",
        "  W = W - learning_rate*dW\n",
        "  b = b - learning_rate*db\n",
        "  return (W,b)"
      ],
      "execution_count": 52,
      "outputs": []
    },
    {
      "cell_type": "code",
      "metadata": {
        "id": "w2iSXKA7Oj9D"
      },
      "source": [
        "def predict(X, W, b): #pour tester le neurone artificiel\n",
        "  A = model(X, W, b)\n",
        "  return A>=0.5 "
      ],
      "execution_count": 76,
      "outputs": []
    },
    {
      "cell_type": "code",
      "metadata": {
        "id": "nj6w1mCUM1ps"
      },
      "source": [
        "def artificial_neuron(X, y, learning_rate = 0.1, iter = 100): #neurone artifciel\n",
        "  W, b = init(X) #initialisation des paramètres\n",
        "  Log_loss = [] #erreurs du modèle\n",
        "\n",
        "  for i in range(iter):\n",
        "    A = model(X, W, b) #fonction d'activation\n",
        "    dW, db = gradients(X, y, A) #calcul des gradients\n",
        "    Log_loss.append(Loss(A,y)) #stockage des erreurs\n",
        "    W, b = gradient_descent(dW, db, W, b, learning_rate) #descente de gradient, optimisation de la fonction coût sur les paramètres W et b\n",
        " \n",
        "  y1 = predict(X, W, b)\n",
        "  print(accuracy_score(y, y1))\n",
        "\n",
        "  plt.plot(Log_loss)\n",
        "  plt.show()\n",
        "\n",
        "  return (W, b)"
      ],
      "execution_count": 81,
      "outputs": []
    },
    {
      "cell_type": "code",
      "metadata": {
        "colab": {
          "base_uri": "https://localhost:8080/",
          "height": 282
        },
        "id": "3lJhBLm0PIc1",
        "outputId": "a9ff6b48-635b-486c-c99c-d840dcddf869"
      },
      "source": [
        "W, b = artificial_neuron(X, y, 0.1, 100)"
      ],
      "execution_count": 82,
      "outputs": [
        {
          "output_type": "stream",
          "name": "stdout",
          "text": [
            "0.92\n"
          ]
        },
        {
          "output_type": "display_data",
          "data": {
            "image/png": "[encoded data removed]",
            "text/plain": [
              "<Figure size 432x288 with 1 Axes>"
            ]
          },
          "metadata": {
            "needs_background": "light"
          }
        }
      ]
    }
  ]
}